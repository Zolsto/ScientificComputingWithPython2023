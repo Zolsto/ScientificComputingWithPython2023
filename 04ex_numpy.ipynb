{
 "cells": [
  {
   "cell_type": "markdown",
   "metadata": {},
   "source": [
    "1\\. **Reductions**\n",
    "\n",
    "Given the following matrix:\n",
    "\n",
    "```python\n",
    "m = np.arange(12).reshape((3,4))\n",
    "```\n",
    "\n",
    "   1. find the total mean\n",
    "   2. find the mean for each row and column"
   ]
  },
  {
   "cell_type": "code",
   "execution_count": 1,
   "metadata": {},
   "outputs": [
    {
     "name": "stdout",
     "output_type": "stream",
     "text": [
      "Media di m:  5.5\n",
      "Media delle colonne di m:  [4. 5. 6. 7.]\n",
      "Media delle righe di m:  [1.5 5.5 9.5]\n"
     ]
    }
   ],
   "source": [
    "import numpy as np\n",
    "import math\n",
    "import timeit\n",
    "\n",
    "m = np.arange(12).reshape((3,4))\n",
    "print(\"Media di m: \", m.mean())\n",
    "print(\"Media delle colonne di m: \", m.mean(0))\n",
    "print(\"Media delle righe di m: \", m.mean(1))"
   ]
  },
  {
   "cell_type": "markdown",
   "metadata": {},
   "source": [
    "2\\. **Outer product**\n",
    "\n",
    "Find the outer product of the following vectors:\n",
    "\n",
    "```python\n",
    "u = np.array([1, 3, 5, 7])\n",
    "v = np.array([2, 4, 6, 8])\n",
    "```\n",
    "\n",
    "Use different methods to do this:\n",
    "\n",
    "   1. Using the function `outer` in numpy\n",
    "   2. Using a nested `for` loop or a list comprehension\n",
    "   3. Using numpy broadcasting operations"
   ]
  },
  {
   "cell_type": "code",
   "execution_count": 2,
   "metadata": {},
   "outputs": [
    {
     "name": "stdout",
     "output_type": "stream",
     "text": [
      "Outer product with np.outer:\n",
      " [[ 2  4  6  8]\n",
      " [ 6 12 18 24]\n",
      " [10 20 30 40]\n",
      " [14 28 42 56]]\n",
      "Outer product with for:\n",
      " [[ 2.  4.  6.  8.]\n",
      " [ 6. 12. 18. 24.]\n",
      " [10. 20. 30. 40.]\n",
      " [14. 28. 42. 56.]]\n",
      "Outer product with numpy.tile:\n",
      " [[ 2  4  6  8]\n",
      " [ 6 12 18 24]\n",
      " [10 20 30 40]\n",
      " [14 28 42 56]]\n"
     ]
    }
   ],
   "source": [
    "u = np.array([1, 3, 5, 7])\n",
    "v = np.array([2, 4, 6, 8])\n",
    "print(\"Outer product with np.outer:\\n\", np.outer(u,v))\n",
    "for_outer = np.zeros((len(u), len(v)))\n",
    "for i in range(len(u)):\n",
    "    for j in range(len(v)):\n",
    "        for_outer[i, j]=u[i]*v[j]\n",
    "print(\"Outer product with for:\\n\", for_outer)\n",
    "tiled_u = np.tile(u, (len(u), 1))\n",
    "tiled_v = np.tile(v, (len(v), 1))\n",
    "tiled_outer = tiled_v*tiled_u.T\n",
    "print(\"Outer product with numpy.tile:\\n\", tiled_outer)"
   ]
  },
  {
   "cell_type": "markdown",
   "metadata": {},
   "source": [
    "3\\. **Matrix masking**\n",
    "\n",
    "Create a $10 \\times 6$ matrix of float random numbers, distributed between 0 and 3 according to a flat distribution.\n",
    "\n",
    "After creating the matrix, set all entries $< 0.3$ to zero using a mask."
   ]
  },
  {
   "cell_type": "code",
   "execution_count": 3,
   "metadata": {},
   "outputs": [
    {
     "name": "stdout",
     "output_type": "stream",
     "text": [
      "[1.37056194 0.62488324 2.53857367 2.21826088 0.44427059 2.48016256\n",
      " 1.33740806 2.2929698  1.13612156 2.35499482 1.86751202 0.64591974\n",
      " 1.08228919 1.11112753 0.98666064 2.75351434 1.81535537 2.82740008\n",
      " 1.00591906 1.65753996 1.34601901 2.55139421 1.22380229 1.72545989\n",
      " 1.05759719 2.91350417 0.57550704 2.32315814 2.81049082 2.78262568\n",
      " 2.89438748 1.98236767 1.1511501  1.13617205 2.46466439 0.82045069\n",
      " 1.60636574 1.55519955 1.1013839  1.73198948 2.90673458 1.41684872\n",
      " 1.57207214 1.0772648  1.43819687 1.48651488 0.82320915 2.01563844\n",
      " 1.36854763 0.52748124 1.47194104 2.97079041 1.8946733  1.98287556]\n"
     ]
    }
   ],
   "source": [
    "a = 3*np.random.rand(10, 6)\n",
    "mask = (a>0.3)\n",
    "print(a[mask])"
   ]
  },
  {
   "cell_type": "markdown",
   "metadata": {},
   "source": [
    "4\\. **Trigonometric functions**\n",
    "\n",
    "Use `np.linspace` to create an array of 100 numbers between $0$ and $2\\pi$ (inclusive).\n",
    "\n",
    "  * Extract every 10th element using the slice notation\n",
    "  * Reverse the array using the slice notation\n",
    "  * Extract elements where the absolute difference between the `sin` and `cos` functions evaluated for that element is $< 0.1$\n",
    "  * **Optional**: make a plot showing the `sin` and `cos` functions and indicate graphically (with a line or a marker) where they are close"
   ]
  },
  {
   "cell_type": "code",
   "execution_count": 4,
   "metadata": {},
   "outputs": [
    {
     "name": "stdout",
     "output_type": "stream",
     "text": [
      "[0.         0.06346652 0.12693304 0.19039955 0.25386607 0.31733259\n",
      " 0.38079911 0.44426563 0.50773215 0.57119866 0.63466518 0.6981317\n",
      " 0.76159822 0.82506474 0.88853126 0.95199777 1.01546429 1.07893081\n",
      " 1.14239733 1.20586385 1.26933037 1.33279688 1.3962634  1.45972992\n",
      " 1.52319644 1.58666296 1.65012947 1.71359599 1.77706251 1.84052903\n",
      " 1.90399555 1.96746207 2.03092858 2.0943951  2.15786162 2.22132814\n",
      " 2.28479466 2.34826118 2.41172769 2.47519421 2.53866073 2.60212725\n",
      " 2.66559377 2.72906028 2.7925268  2.85599332 2.91945984 2.98292636\n",
      " 3.04639288 3.10985939 3.17332591 3.23679243 3.30025895 3.36372547\n",
      " 3.42719199 3.4906585  3.55412502 3.61759154 3.68105806 3.74452458\n",
      " 3.8079911  3.87145761 3.93492413 3.99839065 4.06185717 4.12532369\n",
      " 4.1887902  4.25225672 4.31572324 4.37918976 4.44265628 4.5061228\n",
      " 4.56958931 4.63305583 4.69652235 4.75998887 4.82345539 4.88692191\n",
      " 4.95038842 5.01385494 5.07732146 5.14078798 5.2042545  5.26772102\n",
      " 5.33118753 5.39465405 5.45812057 5.52158709 5.58505361 5.64852012\n",
      " 5.71198664 5.77545316 5.83891968 5.9023862  5.96585272 6.02931923\n",
      " 6.09278575 6.15625227 6.21971879 6.28318531] \n",
      "\n",
      "[0.         0.63466518 1.26933037 1.90399555 2.53866073 3.17332591\n",
      " 3.8079911  4.44265628 5.07732146 5.71198664] \n",
      "\n",
      "[6.28318531 6.21971879 6.15625227 6.09278575 6.02931923 5.96585272\n",
      " 5.9023862  5.83891968 5.77545316 5.71198664 5.64852012 5.58505361\n",
      " 5.52158709 5.45812057 5.39465405 5.33118753 5.26772102 5.2042545\n",
      " 5.14078798 5.07732146 5.01385494 4.95038842 4.88692191 4.82345539\n",
      " 4.75998887 4.69652235 4.63305583 4.56958931 4.5061228  4.44265628\n",
      " 4.37918976 4.31572324 4.25225672 4.1887902  4.12532369 4.06185717\n",
      " 3.99839065 3.93492413 3.87145761 3.8079911  3.74452458 3.68105806\n",
      " 3.61759154 3.55412502 3.4906585  3.42719199 3.36372547 3.30025895\n",
      " 3.23679243 3.17332591 3.10985939 3.04639288 2.98292636 2.91945984\n",
      " 2.85599332 2.7925268  2.72906028 2.66559377 2.60212725 2.53866073\n",
      " 2.47519421 2.41172769 2.34826118 2.28479466 2.22132814 2.15786162\n",
      " 2.0943951  2.03092858 1.96746207 1.90399555 1.84052903 1.77706251\n",
      " 1.71359599 1.65012947 1.58666296 1.52319644 1.45972992 1.3962634\n",
      " 1.33279688 1.26933037 1.20586385 1.14239733 1.07893081 1.01546429\n",
      " 0.95199777 0.88853126 0.82506474 0.76159822 0.6981317  0.63466518\n",
      " 0.57119866 0.50773215 0.44426563 0.38079911 0.31733259 0.25386607\n",
      " 0.19039955 0.12693304 0.06346652 0.        ] \n",
      "\n",
      "[0.         0.06346652 0.12693304 0.19039955 0.25386607 0.31733259\n",
      " 0.38079911 0.44426563 0.50773215 0.57119866 0.63466518 0.6981317\n",
      " 0.76159822 0.82506474 3.87145761 3.93492413 3.99839065 4.06185717\n",
      " 4.12532369 4.1887902  4.25225672 4.31572324 4.37918976 4.44265628\n",
      " 4.5061228  4.56958931 4.63305583 4.69652235 4.75998887 4.82345539\n",
      " 4.88692191 4.95038842 5.01385494 5.07732146 5.14078798 5.2042545\n",
      " 5.26772102 5.33118753 5.39465405 5.45812057 5.52158709 5.58505361\n",
      " 5.64852012 5.71198664 5.77545316 5.83891968 5.9023862  5.96585272\n",
      " 6.02931923 6.09278575 6.15625227 6.21971879 6.28318531]\n"
     ]
    }
   ],
   "source": [
    "a = np.linspace(0, 2*math.pi, 100)\n",
    "print(a,\"\\n\")\n",
    "print(a[::10],\"\\n\")\n",
    "print(a[::-1], \"\\n\")\n",
    "mask = (np.sin(a) - np.cos(a)<0.1)\n",
    "print(a[mask])"
   ]
  },
  {
   "cell_type": "markdown",
   "metadata": {},
   "source": [
    "5\\. **Matrices**\n",
    "\n",
    "Create a matrix that shows the $10 \\times 10$ multiplication table.\n",
    "\n",
    " * Find the trace of the matrix\n",
    " * Extract the anti-diagonal matrix (this should be ```array([10, 18, 24, 28, 30, 30, 28, 24, 18, 10])```)\n",
    " * Extract the diagonal offset by 1 upwards (this should be ```array([ 2,  6, 12, 20, 30, 42, 56, 72, 90])```)"
   ]
  },
  {
   "cell_type": "code",
   "execution_count": 5,
   "metadata": {},
   "outputs": [
    {
     "name": "stdout",
     "output_type": "stream",
     "text": [
      "[[  1   2   3   4   5   6   7   8   9  10]\n",
      " [  2   4   6   8  10  12  14  16  18  20]\n",
      " [  3   6   9  12  15  18  21  24  27  30]\n",
      " [  4   8  12  16  20  24  28  32  36  40]\n",
      " [  5  10  15  20  25  30  35  40  45  50]\n",
      " [  6  12  18  24  30  36  42  48  54  60]\n",
      " [  7  14  21  28  35  42  49  56  63  70]\n",
      " [  8  16  24  32  40  48  56  64  72  80]\n",
      " [  9  18  27  36  45  54  63  72  81  90]\n",
      " [ 10  20  30  40  50  60  70  80  90 100]] \n",
      "\n",
      "Trace of that matrix:  385 \n",
      "\n",
      "[2, 6, 12, 20, 30, 42, 56, 72, 90]\n"
     ]
    }
   ],
   "source": [
    "table = np.zeros((10, 10), \"int\")\n",
    "for i in range(1, 11):\n",
    "    table[i-1] = np.arange(i, 11*i, i)\n",
    "print(table, \"\\n\")\n",
    "print(\"Trace of that matrix: \", np.trace(table), \"\\n\")\n",
    "diag2=[]\n",
    "for c in range(table.shape[1]-1):\n",
    "    diag2.append(table[c,c+1])\n",
    "print(diag2)"
   ]
  },
  {
   "cell_type": "markdown",
   "metadata": {},
   "source": [
    "6\\. **Broadcasting**\n",
    "\n",
    "Use broadcasting to create a grid of distances.\n",
    "\n",
    "Route 66 crosses the following cities in the US: Chicago, Springfield, Saint-Louis, Tulsa, Oklahoma City, Amarillo, Santa Fe, Albuquerque, Flagstaff, Los Angeles.\n",
    "\n",
    "The corresponding positions in miles are: `0, 198, 303, 736, 871, 1175, 1475, 1544, 1913, 2448`\n",
    "\n",
    "  * Build a 2D grid of distances among each city along Route 66\n",
    "  * Convert the distances in km"
   ]
  },
  {
   "cell_type": "code",
   "execution_count": 6,
   "metadata": {},
   "outputs": [
    {
     "name": "stdout",
     "output_type": "stream",
     "text": [
      "[[   0.  198.  303.  736.  871. 1175. 1475. 1544. 1913. 2448.]\n",
      " [ 198.    0.  105.  538.  673.  977. 1277. 1346. 1715. 2250.]\n",
      " [ 303.  105.    0.  433.  568.  872. 1172. 1241. 1610. 2145.]\n",
      " [ 736.  538.  433.    0.  135.  439.  739.  808. 1177. 1712.]\n",
      " [ 871.  673.  568.  135.    0.  304.  604.  673. 1042. 1577.]\n",
      " [1175.  977.  872.  439.  304.    0.  300.  369.  738. 1273.]\n",
      " [1475. 1277. 1172.  739.  604.  300.    0.   69.  438.  973.]\n",
      " [1544. 1346. 1241.  808.  673.  369.   69.    0.  369.  904.]\n",
      " [1913. 1715. 1610. 1177. 1042.  738.  438.  369.    0.  535.]\n",
      " [2448. 2250. 2145. 1712. 1577. 1273.  973.  904.  535.    0.]]\n"
     ]
    }
   ],
   "source": [
    "cities = [\"Chicago\", \"Springfield\", \"Saint-Louis\", \"Tulsa\", \"Oklahoma City\", \"Amarillo\", \"Santa Fe\", \"Albuquerque\", \"Flagstaff\", \"Los Angeles\"]\n",
    "distances = [0, 198, 303, 736, 871, 1175, 1475, 1544, 1913, 2448]\n",
    "grid = np.zeros((len(cities), len(cities)))\n",
    "for i in range(len(cities)):\n",
    "    for j in range(i + 1, len(cities)):\n",
    "        grid[i][j] = distances[j]-distances[i]\n",
    "        grid[j][i] = grid[i][j]\n",
    "KMgrid=grid*0.6213712\n",
    "print(grid)"
   ]
  },
  {
   "cell_type": "markdown",
   "metadata": {},
   "source": [
    "7\\. **Prime numbers sieve**\n",
    "\n",
    "Compute the prime numbers in the 0-N (start with N=99) range with a sieve (mask).\n",
    "\n",
    "  * Construct a shape (N,) boolean array, which is the mask\n",
    "  * Identify the multiples of each number starting from 2 and set accordingly the corresponding mask element\n",
    "  * Apply the mask to obtain an array of ordered prime numbers\n",
    "  * Check the performances (with `timeit`); how does it scale with N?\n",
    "  * Implement the optimization suggested in the [sieve of Eratosthenes](https://en.wikipedia.org/wiki/Sieve_of_Eratosthenes)"
   ]
  },
  {
   "cell_type": "code",
   "execution_count": 7,
   "metadata": {},
   "outputs": [
    {
     "name": "stdout",
     "output_type": "stream",
     "text": [
      "This function took 0.153060 seconds to run.\n",
      "Prime numbers:\n",
      " [2, 3, 5, 7, 11, 13, 17, 19, 23, 29, 31, 37, 41, 43, 47, 53, 59, 61, 67, 71, 73, 79, 83, 89, 97, 101, 103, 107, 109, 113, 127, 131, 137, 139, 149, 151, 157, 163, 167, 173, 179, 181, 191, 193, 197, 199, 211, 223, 227, 229, 233, 239, 241, 251, 257, 263, 269, 271, 277, 281, 283, 293, 307, 311, 313, 317, 331, 337, 347, 349, 353, 359, 367, 373, 379, 383, 389, 397, 401, 409, 419, 421, 431, 433, 439, 443, 449, 457, 461, 463, 467, 479, 487, 491, 499, 503, 509, 521, 523, 541, 547, 557, 563, 569, 571, 577, 587, 593, 599, 601, 607, 613, 617, 619, 631, 641, 643, 647, 653, 659, 661, 673, 677, 683, 691, 701, 709, 719, 727, 733, 739, 743, 751, 757, 761, 769, 773, 787, 797, 809, 811, 821, 823, 827, 829, 839, 853, 857, 859, 863, 877, 881, 883, 887, 907, 911, 919, 929, 937, 941, 947, 953, 967, 971, 977, 983, 991, 997, 1009, 1013, 1019, 1021, 1031, 1033, 1039, 1049, 1051, 1061, 1063, 1069, 1087, 1091, 1093, 1097, 1103, 1109, 1117, 1123, 1129, 1151, 1153, 1163, 1171, 1181, 1187, 1193, 1201, 1213, 1217, 1223, 1229, 1231, 1237, 1249, 1259, 1277, 1279, 1283, 1289, 1291, 1297, 1301, 1303, 1307, 1319, 1321, 1327, 1361, 1367, 1373, 1381, 1399, 1409, 1423, 1427, 1429, 1433, 1439, 1447, 1451, 1453, 1459, 1471, 1481, 1483, 1487, 1489, 1493, 1499, 1511, 1523, 1531, 1543, 1549, 1553, 1559, 1567, 1571, 1579, 1583, 1597, 1601, 1607, 1609, 1613, 1619, 1621, 1627, 1637, 1657, 1663, 1667, 1669, 1693, 1697, 1699, 1709, 1721, 1723, 1733, 1741, 1747, 1753, 1759, 1777, 1783, 1787, 1789, 1801, 1811, 1823, 1831, 1847, 1861, 1867, 1871, 1873, 1877, 1879, 1889, 1901, 1907, 1913, 1931, 1933, 1949, 1951, 1973, 1979, 1987, 1993, 1997, 1999]\n",
      "This function took 0.000333 seconds to run.\n",
      "Prime numbers using sieve of eratosthenes:\n",
      " [   2    3    5    7   11   13   17   19   23   29   31   37   41   43\n",
      "   47   53   59   61   67   71   73   79   83   89   97  101  103  107\n",
      "  109  113  127  131  137  139  149  151  157  163  167  173  179  181\n",
      "  191  193  197  199  211  223  227  229  233  239  241  251  257  263\n",
      "  269  271  277  281  283  293  307  311  313  317  331  337  347  349\n",
      "  353  359  367  373  379  383  389  397  401  409  419  421  431  433\n",
      "  439  443  449  457  461  463  467  479  487  491  499  503  509  521\n",
      "  523  541  547  557  563  569  571  577  587  593  599  601  607  613\n",
      "  617  619  631  641  643  647  653  659  661  673  677  683  691  701\n",
      "  709  719  727  733  739  743  751  757  761  769  773  787  797  809\n",
      "  811  821  823  827  829  839  853  857  859  863  877  881  883  887\n",
      "  907  911  919  929  937  941  947  953  967  971  977  983  991  997\n",
      " 1009 1013 1019 1021 1031 1033 1039 1049 1051 1061 1063 1069 1087 1091\n",
      " 1093 1097 1103 1109 1117 1123 1129 1151 1153 1163 1171 1181 1187 1193\n",
      " 1201 1213 1217 1223 1229 1231 1237 1249 1259 1277 1279 1283 1289 1291\n",
      " 1297 1301 1303 1307 1319 1321 1327 1361 1367 1373 1381 1399 1409 1423\n",
      " 1427 1429 1433 1439 1447 1451 1453 1459 1471 1481 1483 1487 1489 1493\n",
      " 1499 1511 1523 1531 1543 1549 1553 1559 1567 1571 1579 1583 1597 1601\n",
      " 1607 1609 1613 1619 1621 1627 1637 1657 1663 1667 1669 1693 1697 1699\n",
      " 1709 1721 1723 1733 1741 1747 1753 1759 1777 1783 1787 1789 1801 1811\n",
      " 1823 1831 1847 1861 1867 1871 1873 1877 1879 1889 1901 1907 1913 1931\n",
      " 1933 1949 1951 1973 1979 1987 1993 1997 1999]\n"
     ]
    },
    {
     "data": {
      "text/plain": [
       "\"\\nThe time of execution of the function prime_n grows with proportion to N^2 (with N=100 the time is 0.000641, with N=1000 is 0.057 and with N=2000 is 0.237), while sieve_prime's execution time is almost linear in the dimension of N (with N=100 the time is 0.000076, with N=1000 is 0.000108 and with N=2000 is 0.000199).\\n\""
      ]
     },
     "execution_count": 7,
     "metadata": {},
     "output_type": "execute_result"
    }
   ],
   "source": [
    "def measure_time(func):\n",
    "    def wrapper(*args, **kwargs):\n",
    "        Tstart = timeit.default_timer()\n",
    "        result = func(*args, **kwargs)\n",
    "        Tend = timeit.default_timer()\n",
    "        Texec = Tend - Tstart\n",
    "        print(\"This function took {:.6f} seconds to run.\".format(Texec))\n",
    "        return result\n",
    "    return wrapper\n",
    "\n",
    "@measure_time\n",
    "def prime_n(array):\n",
    "    primes = []\n",
    "    for x in array:\n",
    "        if x==1 or x==0:\n",
    "            is_prime=False\n",
    "        else:\n",
    "            is_prime=True\n",
    "        for i in range(2, int(x/2)+1):\n",
    "            if x % i == 0:\n",
    "                is_prime = False\n",
    "        if is_prime:\n",
    "            primes.append(x)\n",
    "    return primes\n",
    "\n",
    "@measure_time\n",
    "def sieve_prime(array):\n",
    "    max_num = max(array)\n",
    "    sieve = np.ones(max_num + 1, dtype=bool)\n",
    "    sieve[:2] = False\n",
    "    for n in range(2, int(np.sqrt(max_num)) + 1):\n",
    "        if sieve[n]:\n",
    "            sieve[n * n::n] = False\n",
    "    return array[sieve]\n",
    "    \n",
    "N=2000\n",
    "numbers = np.arange(N)\n",
    "print(\"Prime numbers:\\n\", prime_n(numbers))\n",
    "print(\"Prime numbers using sieve of eratosthenes:\\n\", sieve_prime(numbers))\n",
    "\n",
    "'''\n",
    "The time of execution of the function prime_n grows with proportion to N^2 (with N=100 the time is 0.000641, with N=1000 is 0.057 and with N=2000 is 0.237), while sieve_prime's execution time is almost linear in the dimension of N (with N=100 the time is 0.000076, with N=1000 is 0.000108 and with N=2000 is 0.000199).\n",
    "'''\n"
   ]
  },
  {
   "cell_type": "markdown",
   "metadata": {},
   "source": [
    "8\\. **Diffusion using random walk**\n",
    "\n",
    "Consider a simple random walk process: at each step in time, a walker jumps right or left (+1 or -1) with equal probability. The goal is to find the typical distance from the origin of many random walkers after a given amount of time.\n",
    "\n",
    "*Hint*: create a 2D array where each row represents a walker, and each column represents a time step.\n",
    "\n",
    "  * Take 1000 walkers and let them walk for 200 steps\n",
    "  * Use `randint` to create a 2D array of size $walkers \\times steps$ with values -1 or 1\n",
    "  * Calculate the walking distances for each walker (e.g. by summing the elements in each row)\n",
    "  * Take the square of the previously-obtained array (element-wise)\n",
    "  * Compute the mean of the squared distances at each step (i.e. the mean along the columns)\n",
    "  * **Optional**: plot the average distances ($\\sqrt(distance^2)$) as a function of time (step)"
   ]
  },
  {
   "cell_type": "code",
   "execution_count": 8,
   "metadata": {},
   "outputs": [
    {
     "name": "stdout",
     "output_type": "stream",
     "text": [
      "Total walked distance of each walker:\n",
      " [ 10   0  -8   2 -22  16  10  24   2  18  14   4   0  -6  26  16  14   8\n",
      " -10  12  10 -24  22  18 -10 -12  22   6 -14  20 -30 -14   2   2  -2  26\n",
      "  20  -4  16  14   2  28 -16   0   4 -10  -2  16  10 -36  14 -22   2  12\n",
      " -16  12 -14  18   4 -18  10   2  12  -6 -14  -2   2  22   4  16  18 -10\n",
      "  -8   8  -8 -16 -28   2  -8   0  12   8   6  -4   0  10   8   6 -10   0\n",
      " -26 -12  -8 -12   4   0 -12  -2  -2  -8   4   8   8  20  -2   4  -8 -10\n",
      " -16  26  -8  22 -10 -10  20   4   4   8 -26   0  22 -22 -14  -2 -24  12\n",
      "  -8 -22   0   2  -6  -2  -2  -6  -2  18   6   2 -24  18  16  16 -18 -18\n",
      " -28   2  14  -6  14  10  16   2  16  20 -22 -24   2   0  -4   8  14   2\n",
      " -26  -4   0  -6  28  18   6 -20   6   6 -10 -20 -26  16  -4   4   0 -18\n",
      "   8 -10   4 -14  12   6   2  36   2  -6   2   4   8   2  -2 -14  -6  -4\n",
      "   8   0  -8 -16  -4 -18  16 -20   2 -14   6 -16  -4  -8   6   8   2  -8\n",
      "  -8  10   4 -32   8  20  -6  -2  -4  14 -28 -16  -6  -4  22  26   0  -6\n",
      " -20   4  -2  18 -22  22  -4  10   6  10  10 -22  -6  32  16  -4  24 -10\n",
      "   8  14  -8 -22   6 -18   8 -38  -4   4  -2 -14   2   6 -12 -28 -18   4\n",
      "  16   6  -8 -16 -12   0  10 -14  -8   4  24 -18 -18 -12 -12   6  -4  16\n",
      "  -6   6   4  -4  -4  22  16  18  -6  -6  -2   2   2 -22   6  -4   2   2\n",
      "  -8   4 -16  -4  30  12 -20  10  10   2  -6   8 -24  -6 -12  10 -10  -8\n",
      "   2  -2  -2   4  32  38  14 -38  -8   0   6 -20   2  30   2  22  22  28\n",
      "   2   4 -12  -2   8   8  -4 -28  10  22  -8  20 -28 -22 -14 -12 -12   4\n",
      " -12   8 -18  14  22   0   0 -22 -12 -10   0  16   8   2  18   8  -2  16\n",
      "  -2   2 -18  -2 -12   6  12  22   2 -16  12 -20  12  -2  20 -24 -12   0\n",
      " -18 -26  -8 -16   4  -4  10   8   4  -4   4  -4  -2  16  18   4 -18  -8\n",
      "   0  -8 -12  -2 -22  12  20 -16  14  -2 -16  18 -22 -20  -4   6   2 -20\n",
      "   6 -10   2  18 -16   0  -8  -6  26 -16  -4 -20   2  14  -4  22   0  -4\n",
      " -26  16 -18   6  16  -2  22  -2   8  24 -24  -2   4 -22 -20   6   4  18\n",
      " -16  20 -18  22  16   0  -4  18  10   8 -20  10 -20  -6  -2  -8  12   0\n",
      "  -4  -4   6   2 -48  14  26   8  -6 -20 -12 -16  14 -20 -20  -4  14   8\n",
      "   4  -6  10 -16   6   4  -6  26 -16  -2  16  -8 -12  -6 -18  16 -18   0\n",
      "   6   4  20  24  -4 -22  -8  -8  10  38  -2  16   4  16 -32  12  -2  -8\n",
      "   2  12  20   0  12  -6 -18  20   6 -26 -14  22 -10 -16 -28  18   4   4\n",
      "  28  -2  14  -8  16  -4 -14   8  22   6 -26  26 -26  10 -14  14   0  -2\n",
      "  12  -2  -2  -8  22   2   4 -10   8  26  12  18 -18  16   4  -2  -4  16\n",
      "  20  24  12   0 -12  -2  18  -2 -16  22 -20 -12   0   6  10 -10  -2  18\n",
      "  12   4   0   2  -4   6   2  -4 -24  12  12  20 -18  -6  26   0   6   6\n",
      "  40  24  16  26  -6  10  -6  12   4  -8   6 -12   2  18 -20   8   2 -32\n",
      " -24   0 -16   8  -2   4  36  -6 -10 -10   4   6 -16 -20 -20  12  -8  -6\n",
      "  -8  16 -28  -6  -6 -12   2  14 -10   0  -6 -16  34  22 -14  10   6  16\n",
      " -12  -2  -4   4   8  10 -24   8 -10  10  -4 -14  -6  12  -8 -18   4 -12\n",
      "  -8 -26  -2 -20  -8  -2 -16  -6  12  -2  12  26  22  20 -36  -4  30  14\n",
      " -10 -16   6  16 -12  18  -8 -10 -24  -6   2 -10  12 -10   2  20 -12 -20\n",
      "  14   2   6   4  38 -14  -4  -6  -6  -8 -22  -6   0 -16   0 -16 -36  22\n",
      "  -4   0  28  -8 -18 -24  20   2  -8  -6  16   0   6   4  18  -4 -14  10\n",
      " -16  -6  -8  14  -8  22   0   0  -6  18  -8 -20   0   2  10  12  20   4\n",
      "  14  -2   4  -6   2  30  -2  -2  10   2   0   0  -2  10  28  16  26  -8\n",
      "   2  12  -6 -14  18   0 -26   0  -4 -16  32 -14  -8  24  20   0   4  -6\n",
      "  12   4   6  18   2 -14  -2  14   0 -12 -14  -2 -28   0  -6 -16 -16 -20\n",
      "   8 -10  30 -30  -6 -10   6  12  -4   4   8 -18  -2  -2   6  10  12 -18\n",
      "   8   2 -20  22 -10  -8  -6  16  -8  -2   4  10  24  -2  -8  -4  22  -2\n",
      "   2   6 -20  -8  -2   0  -2   0   8  46   6 -18  24   0  22  12   0 -12\n",
      "  14  10   8 -16  16 -10  28  -2 -10 -16 -16   4 -16   0   4   4  -6 -16\n",
      " -14   4 -24 -16 -12   2   0  14   0 -14   2   0  -2   0 -14  -8   2  18\n",
      "  22  -4 -12  -6  -2  20  -8  20   0  10 -34 -16   6 -26 -18  14  18   2\n",
      " -16   0  -2  -6  -2 -26  30  -2  26  -4  12   4 -10   4   0 -10  14  -2\n",
      "  -4 -14  -8 -32  10   4   8 -20   0  -6  -4  -6  16 -20  16  -2  -2  -6\n",
      "  16   6  -4 -20 -18   2  14 -20 -16  -8]\n",
      "Mean of squared distances at each time's step:\n",
      " [  1.      1.952   3.032   3.812   4.936   6.176   7.144   8.104   9.152\n",
      "  10.344  11.768  12.62   13.336  14.284  15.448  16.736  17.888  19.032\n",
      "  20.488  21.544  22.392  23.268  24.296  25.584  26.08   26.504  27.264\n",
      "  28.42   29.288  30.796  31.872  32.728  34.     35.584  37.688  38.428\n",
      "  38.984  40.076  41.304  41.72   42.848  43.328  44.352  44.852  45.904\n",
      "  47.512  48.04   49.588  50.96   51.856  53.056  54.104  54.736  55.908\n",
      "  56.496  57.768  58.848  60.172  60.208  61.336  63.544  64.06   64.92\n",
      "  65.948  66.752  66.992  68.096  69.612  71.408  72.936  74.184  73.924\n",
      "  74.784  76.112  76.4    77.996  79.312  81.248  81.792  82.624  83.128\n",
      "  84.82   84.92   86.52   86.976  89.6    90.552  90.748  92.912  93.196\n",
      "  93.568  94.328  96.008  97.232  97.92   99.048 100.416 100.876 101.712\n",
      " 101.824 101.912 102.148 103.64  104.128 104.672 105.472 107.48  109.58\n",
      " 109.92  110.916 112.16  113.    113.312 115.18  116.488 117.172 117.76\n",
      " 119.08  119.8   121.328 122.224 124.644 124.848 124.756 126.048 126.704\n",
      " 127.928 127.888 130.072 130.856 131.096 131.844 132.744 133.124 134.136\n",
      " 134.584 135.4   135.996 135.976 137.288 138.072 139.06  140.536 140.972\n",
      " 140.672 142.676 144.64  146.824 148.656 150.08  151.92  153.5   154.6\n",
      " 156.844 158.504 159.212 161.016 162.16  163.144 162.34  162.176 162.292\n",
      " 163.184 163.536 164.672 165.58  166.28  166.136 166.592 167.228 169.608\n",
      " 170.936 171.84  172.448 174.92  176.304 176.208 177.344 178.072 179.204\n",
      " 180.448 180.572 181.808 181.848 183.896 185.224 185.08  185.768 185.608\n",
      " 186.404 188.28  189.496 189.896 191.544 192.984 193.68  195.408 196.272\n",
      " 198.84  199.224]\n"
     ]
    }
   ],
   "source": [
    "walkers, times = 1000, 200\n",
    "steps = np.random.randint(2, size=(walkers, times))*2-1\n",
    "progress = np.zeros(steps.shape, \"int\")\n",
    "for i in range(walkers):\n",
    "    for j in range(times):\n",
    "        progress[i, j]=progress[i, j-1]+steps[i, j]\n",
    "print(\"Total walked distance of each walker:\\n\", progress[:, times-1])\n",
    "square_prog = progress * progress\n",
    "mean_step=np.zeros(times)\n",
    "for c in range(times):\n",
    "    mean_step[c]=sum(square_prog[:, c])/walkers\n",
    "print(\"Mean of squared distances at each time's step:\\n\", mean_step)"
   ]
  },
  {
   "cell_type": "code",
   "execution_count": null,
   "metadata": {},
   "outputs": [],
   "source": []
  }
 ],
 "metadata": {
  "kernelspec": {
   "display_name": "Python 3 (ipykernel)",
   "language": "python",
   "name": "python3"
  },
  "language_info": {
   "codemirror_mode": {
    "name": "ipython",
    "version": 3
   },
   "file_extension": ".py",
   "mimetype": "text/x-python",
   "name": "python",
   "nbconvert_exporter": "python",
   "pygments_lexer": "ipython3",
   "version": "3.10.12"
  }
 },
 "nbformat": 4,
 "nbformat_minor": 4
}
