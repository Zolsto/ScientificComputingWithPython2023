{
 "cells": [
  {
   "cell_type": "markdown",
   "metadata": {},
   "source": [
    "1\\. **Text files**\n",
    "\n",
    "Perform the following operations on plain `txt` files:\n",
    "\n",
    "+ create a list of integrer numbers and then save it to a text file named `data_int.txt`. Run the `cat` command to print the content of the file.\n",
    "+ create a matrix of 5x5 floats and then save it to a text file named `data_float.txt`. Use the `cat` command to print the content of the file.\n",
    "+ load the `txt` file of the previous point and convert it to a `csv` file by hand."
   ]
  },
  {
   "cell_type": "code",
   "execution_count": 9,
   "metadata": {},
   "outputs": [
    {
     "name": "stdout",
     "output_type": "stream",
     "text": [
      "18, 17, 6, 7, 3, 2, 6, 3, 2, 17, \n",
      "\n",
      "[5.95925725 9.53125871 7.00055752 7.46639152 5.45268724]\n",
      "[4.20301955 7.54904841 6.94223566 1.98800363 9.16593692]\n",
      "[1.98713219 7.13820121 1.29227873 5.88407026 5.33158666]\n",
      "[2.13759853 6.31218363 3.79013123 1.59551545 0.66853566]\n",
      "[6.82530074 8.62943217 3.36423195 7.07831158 5.9891944 ]\n"
     ]
    }
   ],
   "source": [
    "import numpy as np\n",
    "import csv\n",
    "int_array = np.random.randint(1,20,10)\n",
    "with open(\"data/data_int.txt\", \"w\") as file:\n",
    "    for x in int_array:\n",
    "        file.write(str(x)+\", \")\n",
    "    file.close()\n",
    "!cat data/data_int.txt\n",
    "print(\"\\n\")\n",
    "matrix = np.random.rand(5,5)*10\n",
    "with open(\"data/data_float.txt\", \"w\") as file:\n",
    "    for x in matrix:\n",
    "        file.write(str(x)+\"\\n\")\n",
    "    file.close()\n",
    "!cat data/data_float.txt\n",
    "\n",
    "with open(\"data/data_float.txt\", 'r') as file:\n",
    "    txt_data = [line.strip().split() for line in file]\n",
    "    file.close()\n",
    "\n",
    "with open(\"data/data_csv.csv\", 'w') as file:\n",
    "    scrivi = csv.writer(file)\n",
    "    scrivi.writerows(txt_data)\n",
    "    file.close()"
   ]
  },
  {
   "cell_type": "markdown",
   "metadata": {},
   "source": [
    "2\\. **JSON files**\n",
    "\n",
    "Load the file `user_data.json`, which can be found at:\n",
    "\n",
    "- https://www.dropbox.com/s/sz5klcdpckc39hd/user_data.json\n",
    "\n",
    "and filter the data by the \"CreditCardType\" when it equals to \"American Express\". Than save the data to a new CSV file."
   ]
  },
  {
   "cell_type": "code",
   "execution_count": 18,
   "metadata": {},
   "outputs": [],
   "source": [
    "import json\n",
    "with open(\"data/user_data.json\") as file:\n",
    "    data = json.load(file)\n",
    "    filtered = []\n",
    "    for entry in data:\n",
    "        if entry[\"CreditCardType\"]==\"American Express\":\n",
    "            filtered.append(entry)\n",
    "    titoli=data[0].keys()\n",
    "    file.close()\n",
    "with open(\"data/user_data.csv\", 'w') as file:\n",
    "    writer = csv.DictWriter(file, fieldnames=titoli)\n",
    "    writer.writeheader()\n",
    "    writer.writerows(filtered)"
   ]
  },
  {
   "cell_type": "markdown",
   "metadata": {},
   "source": [
    "3\\. **CSV files with Pandas**\n",
    "\n",
    "Load the file from this url:\n",
    "\n",
    "- https://www.dropbox.com/s/kgshemfgk22iy79/mushrooms_categorized.csv\n",
    "\n",
    "with Pandas. \n",
    "\n",
    "+ explore and print the DataFrame\n",
    "+ calculate, using `groupby()`, the average value of each feature, separately for each class\n",
    "+ save the file in a JSON format."
   ]
  },
  {
   "cell_type": "code",
   "execution_count": 65,
   "metadata": {},
   "outputs": [
    {
     "name": "stdout",
     "output_type": "stream",
     "text": [
      "The average in the class 0 on the 0 -th coloumn is: 2.391304347826087\n",
      "The average in the class 0 on the 1 -th coloumn is: 2.391304347826087\n",
      "The average in the class 0 on the 2 -th coloumn is: 2.1739130434782608\n",
      "The average in the class 0 on the 3 -th coloumn is: 2.4347826086956523\n",
      "The average in the class 0 on the 4 -th coloumn is: 2.0869565217391304\n",
      "The average in the class 0 on the 5 -th coloumn is: 2.4782608695652173\n",
      "The average in the class 0 on the 6 -th coloumn is: 2.1739130434782608\n",
      "The average in the class 0 on the 7 -th coloumn is: 2.4782608695652173\n",
      "The average in the class 0 on the 8 -th coloumn is: 2.5652173913043477\n",
      "The average in the class 0 on the 9 -th coloumn is: 2.4782608695652173\n",
      "The average in the class 0 on the 10 -th coloumn is: 2.0434782608695654\n",
      "The average in the class 0 on the 11 -th coloumn is: 2.5652173913043477\n",
      "The average in the class 0 on the 12 -th coloumn is: 2.1739130434782608\n",
      "The average in the class 0 on the 13 -th coloumn is: 2.3043478260869565\n",
      "The average in the class 0 on the 14 -th coloumn is: 2.4782608695652173\n",
      "The average in the class 0 on the 15 -th coloumn is: 2.5217391304347827\n",
      "The average in the class 0 on the 16 -th coloumn is: 2.260869565217391\n",
      "The average in the class 0 on the 17 -th coloumn is: 2.5652173913043477\n",
      "The average in the class 0 on the 18 -th coloumn is: 2.869565217391304\n",
      "The average in the class 0 on the 19 -th coloumn is: 2.4782608695652173\n",
      "The average in the class 0 on the 20 -th coloumn is: 2.5652173913043477\n",
      "The average in the class 0 on the 21 -th coloumn is: 2.3043478260869565\n",
      "The average in the class 0 on the 22 -th coloumn is: 2.6956521739130435\n",
      "\n",
      "The average in the class 1 on the 0 -th coloumn is: 2.739130434782609\n",
      "The average in the class 1 on the 1 -th coloumn is: 3.0\n",
      "The average in the class 1 on the 2 -th coloumn is: 2.9565217391304346\n",
      "The average in the class 1 on the 3 -th coloumn is: 3.0434782608695654\n",
      "The average in the class 1 on the 4 -th coloumn is: 2.608695652173913\n",
      "The average in the class 1 on the 5 -th coloumn is: 3.0434782608695654\n",
      "The average in the class 1 on the 6 -th coloumn is: 2.782608695652174\n",
      "The average in the class 1 on the 7 -th coloumn is: 2.739130434782609\n",
      "The average in the class 1 on the 8 -th coloumn is: 2.739130434782609\n",
      "The average in the class 1 on the 9 -th coloumn is: 3.0\n",
      "The average in the class 1 on the 10 -th coloumn is: 3.0869565217391304\n",
      "The average in the class 1 on the 11 -th coloumn is: 3.0\n",
      "The average in the class 1 on the 12 -th coloumn is: 2.869565217391304\n",
      "The average in the class 1 on the 13 -th coloumn is: 2.9565217391304346\n",
      "The average in the class 1 on the 14 -th coloumn is: 3.130434782608696\n",
      "The average in the class 1 on the 15 -th coloumn is: 3.0434782608695654\n",
      "The average in the class 1 on the 16 -th coloumn is: 3.0869565217391304\n",
      "The average in the class 1 on the 17 -th coloumn is: 2.782608695652174\n",
      "The average in the class 1 on the 18 -th coloumn is: 2.652173913043478\n",
      "The average in the class 1 on the 19 -th coloumn is: 3.3043478260869565\n",
      "The average in the class 1 on the 20 -th coloumn is: 2.782608695652174\n",
      "The average in the class 1 on the 21 -th coloumn is: 3.1739130434782608\n",
      "The average in the class 1 on the 22 -th coloumn is: 2.782608695652174\n"
     ]
    }
   ],
   "source": [
    "import pandas as pd\n",
    "data = pd.read_csv(\"data/mushrooms_categorized.csv\")\n",
    "#print(data)\n",
    "class0=data[data[\"class\"]==0]\n",
    "class1=data[data[\"class\"]==1]\n",
    "for i in range(class0.shape[1]):\n",
    "    media=class0.iloc[i].mean()\n",
    "    print(\"The average in the class 0 on the\", i, \"-th coloumn is:\", media)\n",
    "print()\n",
    "for i in range(class1.shape[1]):\n",
    "    media=class1.iloc[i].mean()\n",
    "    print(\"The average in the class 1 on the\", i, \"-th coloumn is:\", media)\n",
    "transfer = []\n",
    "with open(\"data/mushrooms_categorized.csv\", \"r\") as file:\n",
    "    dati = csv.reader(file)\n",
    "    for riga in dati:\n",
    "        transfer.append(riga)\n",
    "    file.close()\n",
    "with open(\"data/mushrooms_categorized.json\", \"w\") as file:\n",
    "    json.dump(transfer, file)\n",
    "    file.close()"
   ]
  },
  {
   "cell_type": "markdown",
   "metadata": {},
   "source": [
    "4\\. **Reading a database**\n",
    "\n",
    "Get the database `sakila.db` from the lecture `06_dataio.ipynb`, and import the table `actors` as a Pandas dataframe. Using the dataframe, count how many actors have a first name that begins with `A`.\n",
    "\n",
    "*Hint:* use the Series `.str` method to apply the Python string methods to the elements of a Series, see [documentation](https://pandas.pydata.org/docs/reference/api/pandas.Series.str.html)."
   ]
  },
  {
   "cell_type": "code",
   "execution_count": null,
   "metadata": {},
   "outputs": [],
   "source": []
  },
  {
   "cell_type": "markdown",
   "metadata": {},
   "source": [
    "5\\. **Reading the credit card numbers**\n",
    "\n",
    "Get the binary file named `credit_card.dat` from this address:\n",
    "\n",
    "- https://www.dropbox.com/s/8m0syw2tkul3dap/credit_card.dat\n",
    "\n",
    "and convert the data into the real credit card number, knowing that:\n",
    "- each line corresponds to a credit card number, which consists of 16 characters (which are numbers in the 0-9 range) divided in 4 blocks, with a whitespace between each block\n",
    "- each character is written using a 6 bit binary representation (including the whitespace)\n",
    "- the final 4 bits of each line are a padding used to determine the end of the line, and can be ignored\n",
    "\n",
    "*Hint*: convert the binary numbers to the decimal representation first, and then use the `chr()` function to convert the latter to a char"
   ]
  },
  {
   "cell_type": "code",
   "execution_count": 88,
   "metadata": {},
   "outputs": [
    {
     "name": "stdout",
     "output_type": "stream",
     "text": [
      "7648 5673 3775 2271\n",
      "3257 8247 3354 2266\n",
      "2722 0001 4011 6652\n",
      "0661 3063 3742 3150\n",
      "0432 1608 1462 4742\n",
      "5827 2027 8785 7303\n",
      "5774 8528 2087 1117\n",
      "8140 1210 6352 2845\n",
      "5764 1133 7301 7100\n",
      "6456 1737 4126 6726\n",
      "1228 8631 7382 0000\n",
      "7051 0160 5374 3166\n",
      "0618 3587 1630 6376\n",
      "1545 5454 7444 5636\n",
      "6735 3116 3202 6834\n",
      "7287 5011 1547 8413\n",
      "7033 2607 3328 4200\n",
      "2568 5244 1874 5024\n",
      "1684 2253 7570 7118\n",
      "0672 2576 0575 6631\n",
      "6332 8353 8787 1340\n",
      "1813 3361 1175 4211\n",
      "2477 6450 8840 2368\n",
      "5512 3505 2563 1326\n",
      "3083 7882 0621 0025\n",
      "4521 5148 8045 0334\n",
      "7563 3654 8713 5787\n",
      "8324 2664 0476 5561\n",
      "0565 2504 7168 3510\n",
      "5107 5507 1767 0738\n",
      "2462 1821 2448 1443\n",
      "2788 0638 6861 6554\n",
      "5851 5873 5474 0547\n",
      "0670 1004 4013 2655\n",
      "5874 5506 3048 0806\n",
      "2805 5401 8462 1260\n",
      "5083 8406 6310 1862\n",
      "1076 1445 3013 2266\n",
      "8440 4804 4844 5277\n",
      "4758 6141 0686 1387\n",
      "7586 0675 0315 2568\n",
      "2544 1258 7432 5165\n",
      "3474 5023 4434 5626\n",
      "1410 0270 0434 5086\n",
      "7315 4446 1104 4215\n",
      "0224 7742 8300 0266\n",
      "0170 2700 3145 0640\n",
      "2006 2437 8054 1600\n",
      "8142 4055 1776 0026\n",
      "3026 7380 1241 1084\n",
      "\n"
     ]
    }
   ],
   "source": [
    "data = np.genfromtxt(\"data/credit_card.dat\", dtype=\"str\")\n",
    "for i in range(len(data)):\n",
    "    numero=\"\"\n",
    "    stringa = data[i]\n",
    "    for j in range((len(stringa)-4)//6):\n",
    "        num=int(stringa[6*j:6*j+6], 2)\n",
    "        numero=numero+chr(num)\n",
    "    print(numero)"
   ]
  },
  {
   "cell_type": "markdown",
   "metadata": {},
   "source": [
    "6\\. **Write data to a binary file**\n",
    "\n",
    "a) Start from the `data/data_000637.txt` file that we have used during the previous lectures, and convert it to a binary file according to the format defined below:"
   ]
  },
  {
   "cell_type": "code",
   "execution_count": null,
   "metadata": {},
   "outputs": [],
   "source": [
    "from IPython.display import Image\n",
    "Image(\"images/data_format.png\")"
   ]
  },
  {
   "cell_type": "markdown",
   "metadata": {},
   "source": [
    "*Hints*:\n",
    "- Read the first 10 lines using Pandas\n",
    "- Iterate over the DataFrame rows\n",
    "- For every row, \"pack\" the values (features) into a single 64-bit word, according to the format specified above. Use bit-wise shifts and operators to do so.\n",
    "- Write each 64-bit word to a binary file. You can use `struct` in this way:\n",
    "```\n",
    "binary_file.write( struct.pack('<q', word) )\n",
    "```\n",
    "where `word` is the 64-bit word.\n",
    "- Close the file after completing the loop.\n",
    "\n",
    "b) Check that the binary file is correctly written by reading it with the code used in the lecture `06_dataio.ipynb`, and verify that the content of the `txt` and binary files is consistent.\n",
    "\n",
    "c) What is the difference of the size on disk between equivalent `txt` and binary files?"
   ]
  },
  {
   "cell_type": "code",
   "execution_count": null,
   "metadata": {},
   "outputs": [],
   "source": []
  }
 ],
 "metadata": {
  "kernelspec": {
   "display_name": "Python 3 (ipykernel)",
   "language": "python",
   "name": "python3"
  },
  "language_info": {
   "codemirror_mode": {
    "name": "ipython",
    "version": 3
   },
   "file_extension": ".py",
   "mimetype": "text/x-python",
   "name": "python",
   "nbconvert_exporter": "python",
   "pygments_lexer": "ipython3",
   "version": "3.10.12"
  }
 },
 "nbformat": 4,
 "nbformat_minor": 4
}
