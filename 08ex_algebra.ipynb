{
 "cells": [
  {
   "cell_type": "markdown",
   "metadata": {},
   "source": [
    "1\\. **PCA on 3D dataset**\n",
    "\n",
    "* Generate a dataset simulating 3 features, each with N entries (N being ${\\cal O}(1000)$). Each feature is made by random numbers generated according the normal distribution $N(\\mu,\\sigma)$ with mean $\\mu_i$ and standard deviation $\\sigma_i$, with $i=1, 2, 3$. Generate the 3 variables $x_{i}$ such that:\n",
    "    * $x_1$ is distributed as $N(0,1)$\n",
    "    * $x_2$ is distributed as $x_1+N(0,3)$\n",
    "    * $x_3$ is given by $2x_1+x_2$\n",
    "* Find the eigenvectors and eigenvalues using the eigendecomposition of the covariance matrix\n",
    "* Find the eigenvectors and eigenvalues using the SVD. Check that the two procedures yield to same result\n",
    "* What percent of the total dataset's variability is explained by the principal components? Given how the dataset was constructed, do these make sense? Reduce the dimensionality of the system so that at least 99% of the total variability is retained\n",
    "* Redefine the data according to the new basis from the PCA\n",
    "* Plot the data, in both the original and the new basis. The figure should have 2 rows (the original and the new basis) and 3 columns (the $[x_0, x_1]$, $[x_0, x_2]$ and $[x_1, x_2]$ projections) of scatter plots."
   ]
  },
  {
   "cell_type": "code",
   "execution_count": 19,
   "metadata": {},
   "outputs": [
    {
     "name": "stdout",
     "output_type": "stream",
     "text": [
      "Autovalori calcolati dalla matrice di covarianza:\n",
      "[ 1.81414163e+01 -1.72431643e-15  2.60548044e+00]\n",
      "Autovettori calcolati dalla matrice di covarianza:\n",
      "[[-0.09174656  0.81649658 -0.57001395]\n",
      " [-0.6063751   0.40824829  0.68238008]\n",
      " [-0.78986822 -0.40824829 -0.45764782]]\n",
      "\n",
      "Autovalori calcolati con SVD:\n",
      "[1.81243079e+04 2.60574977e+03 7.44699654e-28]\n",
      "Autovettori calcolati con SVD:\n",
      "[[-0.09180985 -0.57000376  0.81649658]\n",
      " [-0.60629932  0.68244741  0.40824829]\n",
      " [-0.78991903 -0.45756011 -0.40824829]]\n",
      "\n",
      "Percentuale del dataframe spiegata dagli autovalori: [8.74300891e+01 1.25699109e+01 3.59236654e-30] \n",
      "\n",
      "I nuovi autovettori per il 99% di variabilità sono:\n",
      "[[-0.09180985 -0.57000376]\n",
      " [-0.60629932  0.68244741]\n",
      " [-0.78991903 -0.45756011]]\n",
      "Con dimensioni: (3, 2)\n",
      "     Component1  Component2\n",
      "0     -1.218680   -1.687183\n",
      "1      0.853343    1.211166\n",
      "2     -1.801004    3.416497\n",
      "3     -3.896160    1.270306\n",
      "4      0.365968    0.819561\n",
      "..          ...         ...\n",
      "995   10.886281    0.343916\n",
      "996   -1.053998   -3.832181\n",
      "997    1.152061   -0.452024\n",
      "998    5.739418    0.837117\n",
      "999    0.932561   -2.257938\n",
      "\n",
      "[1000 rows x 2 columns]\n"
     ]
    }
   ],
   "source": [
    "import numpy as np\n",
    "import pandas as pd\n",
    "import matplotlib as plt\n",
    "\n",
    "L = 1000\n",
    "x1 = np.random.normal(0, 1, L)\n",
    "x2 = np.random.normal(0, 3, L)\n",
    "x3 = 2*x1 + x2\n",
    "dict = {'Feature 1': x1, 'Feature 2': x2, 'Feature 3': x3}\n",
    "data = pd.DataFrame(dict)\n",
    "autovalori, autovettori = np.linalg.eig(data.cov())\n",
    "print(\"Autovalori calcolati dalla matrice di covarianza:\")\n",
    "print(autovalori)\n",
    "print(\"Autovettori calcolati dalla matrice di covarianza:\")\n",
    "print(autovettori)\n",
    "print()\n",
    "valori = data.values\n",
    "U, sigma, Vt = np.linalg.svd(valori)\n",
    "eigenvalues = sigma**2\n",
    "eigenvectors = Vt.T\n",
    "print(\"Autovalori calcolati con SVD:\")\n",
    "print(sigma**2)\n",
    "print(\"Autovettori calcolati con SVD:\")\n",
    "print(eigenvectors)\n",
    "print()\n",
    "#I valori sono simili ma non uguali\n",
    "tot_variance = np.sum(eigenvalues)\n",
    "explained = eigenvalues / tot_variance\n",
    "print(\"Percentuale del dataframe spiegata dagli autovalori:\", explained*100, \"\\n\")\n",
    "#riduco la dimensione degli autovettori\n",
    "obiettivo = 0.99\n",
    "cumulative_variance = np.cumsum(explained)\n",
    "dimens = np.argmax(cumulative_variance >= obiettivo) + 1\n",
    "reduced = eigenvectors[:, :dimens]\n",
    "print(\"I nuovi autovettori per il 99% di variabilità sono:\")\n",
    "print(reduced)\n",
    "print(\"Con dimensioni:\", reduced.shape)\n",
    "#Sistemo il dataframe di conseguenza\n",
    "data99 = pd.DataFrame(data.values.dot(reduced), columns=[\"Component1\", \"Component2\"])\n",
    "print(data99)"
   ]
  },
  {
   "cell_type": "markdown",
   "metadata": {},
   "source": [
    "2\\. **PCA on a nD dataset**\n",
    "\n",
    "* Start from the dataset you have genereted in the previous exercise and add uncorrelated random noise. Such noise should be represented by other 10 uncorrelated variables normally distributed, with a standard deviation much smaller (e.g. a factor 20) than those used to generate the $x_1$ and $x_2$. Repeat the PCA procedure and compare the results with what you have obtained before."
   ]
  },
  {
   "cell_type": "code",
   "execution_count": null,
   "metadata": {},
   "outputs": [],
   "source": []
  },
  {
   "cell_type": "markdown",
   "metadata": {},
   "source": [
    "3\\. **Optional**: **PCA on the MAGIC dataset**\n",
    "\n",
    "Perform a PCA on the magic04.data dataset."
   ]
  },
  {
   "cell_type": "code",
   "execution_count": null,
   "metadata": {},
   "outputs": [],
   "source": [
    "# get the dataset and its description on the proper data directory\n",
    "#!wget https://archive.ics.uci.edu/ml/machine-learning-databases/magic/magic04.data -P data/\n",
    "#!wget https://archive.ics.uci.edu/ml/machine-learning-databases/magic/magic04.names -P data/ "
   ]
  },
  {
   "cell_type": "code",
   "execution_count": null,
   "metadata": {},
   "outputs": [],
   "source": []
  }
 ],
 "metadata": {
  "kernelspec": {
   "display_name": "Python 3 (ipykernel)",
   "language": "python",
   "name": "python3"
  },
  "language_info": {
   "codemirror_mode": {
    "name": "ipython",
    "version": 3
   },
   "file_extension": ".py",
   "mimetype": "text/x-python",
   "name": "python",
   "nbconvert_exporter": "python",
   "pygments_lexer": "ipython3",
   "version": "3.10.12"
  }
 },
 "nbformat": 4,
 "nbformat_minor": 4
}
